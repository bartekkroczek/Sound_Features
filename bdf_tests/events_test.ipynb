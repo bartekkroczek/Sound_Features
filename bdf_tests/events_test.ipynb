{
 "cells": [
  {
   "cell_type": "code",
   "execution_count": 3,
   "metadata": {
    "collapsed": true
   },
   "outputs": [],
   "source": [
    "import mne\n",
    "import pandas as pd"
   ]
  },
  {
   "cell_type": "code",
   "execution_count": 39,
   "outputs": [
    {
     "name": "stdout",
     "output_type": "stream",
     "text": [
      "Extracting EDF parameters from /home/kroczekb/Projects/Sound_Features/sound_features_test.bdf...\n",
      "BDF file detected\n",
      "Setting channel info structure...\n",
      "Creating raw.info structure...\n",
      "Trigger channel has a non-zero initial value of 130816 (consider using initial_event=True to detect this event)\n",
      "90 events found\n",
      "Event IDs: [65281 65282 65283 65284 65285 65286 65287 65288 65289 65290 65291 65292\n",
      " 65293 65294 65295 65296 65297 65298 65299 65300 65301 65302 65303 65304\n",
      " 65305 65306 65307 65308 65309 65310 65311 65312 65313 65314 65315 65316\n",
      " 65317 65318 65319 65320 65321 65322 65323 65324 65325 65326 65327 65328\n",
      " 65329 65330 65331 65332 65333 65334 65335 65336 65337 65338 65339 65340]\n"
     ]
    }
   ],
   "source": [
    "sig = mne.io.read_raw_bdf(\"sound_features_test.bdf\")\n",
    "trig_map = pd.read_csv(\"YSoundFeatureTest_MALE_20_2023-01-11_15_09_35_triggermap.csv\", comment=\"#\")\n",
    "events = mne.find_events(sig)"
   ],
   "metadata": {
    "collapsed": false
   }
  },
  {
   "cell_type": "code",
   "execution_count": 47,
   "outputs": [],
   "source": [
    "events[:, -1] = range(90)"
   ],
   "metadata": {
    "collapsed": false
   }
  },
  {
   "cell_type": "code",
   "execution_count": 54,
   "outputs": [],
   "source": [
    "event_dict = dict(zip([x[0] for x in trig_map[['trigger_type']].values.tolist()], range(90)))"
   ],
   "metadata": {
    "collapsed": false
   }
  },
  {
   "cell_type": "code",
   "execution_count": 55,
   "outputs": [
    {
     "name": "stderr",
     "output_type": "stream",
     "text": [
      "/tmp/ipykernel_105226/3192631193.py:1: RuntimeWarning: event 0 missing from event_id will be ignored\n",
      "  fig = mne.viz.plot_events(events, event_id=event_dict, sfreq=sig.info['sfreq'], first_samp=sig.first_samp)\n",
      "/tmp/ipykernel_105226/3192631193.py:1: RuntimeWarning: event 1 missing from event_id will be ignored\n",
      "  fig = mne.viz.plot_events(events, event_id=event_dict, sfreq=sig.info['sfreq'], first_samp=sig.first_samp)\n",
      "/tmp/ipykernel_105226/3192631193.py:1: RuntimeWarning: event 2 missing from event_id will be ignored\n",
      "  fig = mne.viz.plot_events(events, event_id=event_dict, sfreq=sig.info['sfreq'], first_samp=sig.first_samp)\n",
      "/tmp/ipykernel_105226/3192631193.py:1: RuntimeWarning: event 3 missing from event_id will be ignored\n",
      "  fig = mne.viz.plot_events(events, event_id=event_dict, sfreq=sig.info['sfreq'], first_samp=sig.first_samp)\n",
      "/tmp/ipykernel_105226/3192631193.py:1: RuntimeWarning: event 4 missing from event_id will be ignored\n",
      "  fig = mne.viz.plot_events(events, event_id=event_dict, sfreq=sig.info['sfreq'], first_samp=sig.first_samp)\n",
      "/tmp/ipykernel_105226/3192631193.py:1: RuntimeWarning: event 5 missing from event_id will be ignored\n",
      "  fig = mne.viz.plot_events(events, event_id=event_dict, sfreq=sig.info['sfreq'], first_samp=sig.first_samp)\n",
      "/tmp/ipykernel_105226/3192631193.py:1: RuntimeWarning: event 6 missing from event_id will be ignored\n",
      "  fig = mne.viz.plot_events(events, event_id=event_dict, sfreq=sig.info['sfreq'], first_samp=sig.first_samp)\n",
      "/tmp/ipykernel_105226/3192631193.py:1: RuntimeWarning: event 7 missing from event_id will be ignored\n",
      "  fig = mne.viz.plot_events(events, event_id=event_dict, sfreq=sig.info['sfreq'], first_samp=sig.first_samp)\n",
      "/tmp/ipykernel_105226/3192631193.py:1: RuntimeWarning: event 8 missing from event_id will be ignored\n",
      "  fig = mne.viz.plot_events(events, event_id=event_dict, sfreq=sig.info['sfreq'], first_samp=sig.first_samp)\n",
      "/tmp/ipykernel_105226/3192631193.py:1: RuntimeWarning: event 9 missing from event_id will be ignored\n",
      "  fig = mne.viz.plot_events(events, event_id=event_dict, sfreq=sig.info['sfreq'], first_samp=sig.first_samp)\n",
      "/tmp/ipykernel_105226/3192631193.py:1: RuntimeWarning: event 10 missing from event_id will be ignored\n",
      "  fig = mne.viz.plot_events(events, event_id=event_dict, sfreq=sig.info['sfreq'], first_samp=sig.first_samp)\n",
      "/tmp/ipykernel_105226/3192631193.py:1: RuntimeWarning: event 11 missing from event_id will be ignored\n",
      "  fig = mne.viz.plot_events(events, event_id=event_dict, sfreq=sig.info['sfreq'], first_samp=sig.first_samp)\n",
      "/tmp/ipykernel_105226/3192631193.py:1: RuntimeWarning: event 12 missing from event_id will be ignored\n",
      "  fig = mne.viz.plot_events(events, event_id=event_dict, sfreq=sig.info['sfreq'], first_samp=sig.first_samp)\n",
      "/tmp/ipykernel_105226/3192631193.py:1: RuntimeWarning: event 13 missing from event_id will be ignored\n",
      "  fig = mne.viz.plot_events(events, event_id=event_dict, sfreq=sig.info['sfreq'], first_samp=sig.first_samp)\n",
      "/tmp/ipykernel_105226/3192631193.py:1: RuntimeWarning: event 14 missing from event_id will be ignored\n",
      "  fig = mne.viz.plot_events(events, event_id=event_dict, sfreq=sig.info['sfreq'], first_samp=sig.first_samp)\n",
      "/tmp/ipykernel_105226/3192631193.py:1: RuntimeWarning: event 15 missing from event_id will be ignored\n",
      "  fig = mne.viz.plot_events(events, event_id=event_dict, sfreq=sig.info['sfreq'], first_samp=sig.first_samp)\n",
      "/tmp/ipykernel_105226/3192631193.py:1: RuntimeWarning: event 16 missing from event_id will be ignored\n",
      "  fig = mne.viz.plot_events(events, event_id=event_dict, sfreq=sig.info['sfreq'], first_samp=sig.first_samp)\n",
      "/tmp/ipykernel_105226/3192631193.py:1: RuntimeWarning: event 17 missing from event_id will be ignored\n",
      "  fig = mne.viz.plot_events(events, event_id=event_dict, sfreq=sig.info['sfreq'], first_samp=sig.first_samp)\n",
      "/tmp/ipykernel_105226/3192631193.py:1: RuntimeWarning: event 18 missing from event_id will be ignored\n",
      "  fig = mne.viz.plot_events(events, event_id=event_dict, sfreq=sig.info['sfreq'], first_samp=sig.first_samp)\n",
      "/tmp/ipykernel_105226/3192631193.py:1: RuntimeWarning: event 19 missing from event_id will be ignored\n",
      "  fig = mne.viz.plot_events(events, event_id=event_dict, sfreq=sig.info['sfreq'], first_samp=sig.first_samp)\n",
      "/tmp/ipykernel_105226/3192631193.py:1: RuntimeWarning: event 20 missing from event_id will be ignored\n",
      "  fig = mne.viz.plot_events(events, event_id=event_dict, sfreq=sig.info['sfreq'], first_samp=sig.first_samp)\n",
      "/tmp/ipykernel_105226/3192631193.py:1: RuntimeWarning: event 21 missing from event_id will be ignored\n",
      "  fig = mne.viz.plot_events(events, event_id=event_dict, sfreq=sig.info['sfreq'], first_samp=sig.first_samp)\n",
      "/tmp/ipykernel_105226/3192631193.py:1: RuntimeWarning: event 22 missing from event_id will be ignored\n",
      "  fig = mne.viz.plot_events(events, event_id=event_dict, sfreq=sig.info['sfreq'], first_samp=sig.first_samp)\n",
      "/tmp/ipykernel_105226/3192631193.py:1: RuntimeWarning: event 23 missing from event_id will be ignored\n",
      "  fig = mne.viz.plot_events(events, event_id=event_dict, sfreq=sig.info['sfreq'], first_samp=sig.first_samp)\n",
      "/tmp/ipykernel_105226/3192631193.py:1: RuntimeWarning: event 24 missing from event_id will be ignored\n",
      "  fig = mne.viz.plot_events(events, event_id=event_dict, sfreq=sig.info['sfreq'], first_samp=sig.first_samp)\n",
      "/tmp/ipykernel_105226/3192631193.py:1: RuntimeWarning: event 25 missing from event_id will be ignored\n",
      "  fig = mne.viz.plot_events(events, event_id=event_dict, sfreq=sig.info['sfreq'], first_samp=sig.first_samp)\n",
      "/tmp/ipykernel_105226/3192631193.py:1: RuntimeWarning: event 26 missing from event_id will be ignored\n",
      "  fig = mne.viz.plot_events(events, event_id=event_dict, sfreq=sig.info['sfreq'], first_samp=sig.first_samp)\n",
      "/tmp/ipykernel_105226/3192631193.py:1: RuntimeWarning: event 27 missing from event_id will be ignored\n",
      "  fig = mne.viz.plot_events(events, event_id=event_dict, sfreq=sig.info['sfreq'], first_samp=sig.first_samp)\n",
      "/tmp/ipykernel_105226/3192631193.py:1: RuntimeWarning: event 28 missing from event_id will be ignored\n",
      "  fig = mne.viz.plot_events(events, event_id=event_dict, sfreq=sig.info['sfreq'], first_samp=sig.first_samp)\n",
      "/tmp/ipykernel_105226/3192631193.py:1: RuntimeWarning: event 29 missing from event_id will be ignored\n",
      "  fig = mne.viz.plot_events(events, event_id=event_dict, sfreq=sig.info['sfreq'], first_samp=sig.first_samp)\n",
      "/tmp/ipykernel_105226/3192631193.py:1: RuntimeWarning: event 30 missing from event_id will be ignored\n",
      "  fig = mne.viz.plot_events(events, event_id=event_dict, sfreq=sig.info['sfreq'], first_samp=sig.first_samp)\n",
      "/tmp/ipykernel_105226/3192631193.py:1: RuntimeWarning: event 31 missing from event_id will be ignored\n",
      "  fig = mne.viz.plot_events(events, event_id=event_dict, sfreq=sig.info['sfreq'], first_samp=sig.first_samp)\n",
      "/tmp/ipykernel_105226/3192631193.py:1: RuntimeWarning: event 32 missing from event_id will be ignored\n",
      "  fig = mne.viz.plot_events(events, event_id=event_dict, sfreq=sig.info['sfreq'], first_samp=sig.first_samp)\n",
      "/tmp/ipykernel_105226/3192631193.py:1: RuntimeWarning: event 33 missing from event_id will be ignored\n",
      "  fig = mne.viz.plot_events(events, event_id=event_dict, sfreq=sig.info['sfreq'], first_samp=sig.first_samp)\n",
      "/tmp/ipykernel_105226/3192631193.py:1: RuntimeWarning: event 34 missing from event_id will be ignored\n",
      "  fig = mne.viz.plot_events(events, event_id=event_dict, sfreq=sig.info['sfreq'], first_samp=sig.first_samp)\n",
      "/tmp/ipykernel_105226/3192631193.py:1: RuntimeWarning: event 35 missing from event_id will be ignored\n",
      "  fig = mne.viz.plot_events(events, event_id=event_dict, sfreq=sig.info['sfreq'], first_samp=sig.first_samp)\n",
      "/tmp/ipykernel_105226/3192631193.py:1: RuntimeWarning: event 36 missing from event_id will be ignored\n",
      "  fig = mne.viz.plot_events(events, event_id=event_dict, sfreq=sig.info['sfreq'], first_samp=sig.first_samp)\n",
      "/tmp/ipykernel_105226/3192631193.py:1: RuntimeWarning: event 37 missing from event_id will be ignored\n",
      "  fig = mne.viz.plot_events(events, event_id=event_dict, sfreq=sig.info['sfreq'], first_samp=sig.first_samp)\n",
      "/tmp/ipykernel_105226/3192631193.py:1: RuntimeWarning: event 38 missing from event_id will be ignored\n",
      "  fig = mne.viz.plot_events(events, event_id=event_dict, sfreq=sig.info['sfreq'], first_samp=sig.first_samp)\n",
      "/tmp/ipykernel_105226/3192631193.py:1: RuntimeWarning: event 39 missing from event_id will be ignored\n",
      "  fig = mne.viz.plot_events(events, event_id=event_dict, sfreq=sig.info['sfreq'], first_samp=sig.first_samp)\n",
      "/tmp/ipykernel_105226/3192631193.py:1: RuntimeWarning: event 40 missing from event_id will be ignored\n",
      "  fig = mne.viz.plot_events(events, event_id=event_dict, sfreq=sig.info['sfreq'], first_samp=sig.first_samp)\n",
      "/tmp/ipykernel_105226/3192631193.py:1: RuntimeWarning: event 41 missing from event_id will be ignored\n",
      "  fig = mne.viz.plot_events(events, event_id=event_dict, sfreq=sig.info['sfreq'], first_samp=sig.first_samp)\n",
      "/tmp/ipykernel_105226/3192631193.py:1: RuntimeWarning: event 42 missing from event_id will be ignored\n",
      "  fig = mne.viz.plot_events(events, event_id=event_dict, sfreq=sig.info['sfreq'], first_samp=sig.first_samp)\n",
      "/tmp/ipykernel_105226/3192631193.py:1: RuntimeWarning: event 43 missing from event_id will be ignored\n",
      "  fig = mne.viz.plot_events(events, event_id=event_dict, sfreq=sig.info['sfreq'], first_samp=sig.first_samp)\n",
      "/tmp/ipykernel_105226/3192631193.py:1: RuntimeWarning: event 44 missing from event_id will be ignored\n",
      "  fig = mne.viz.plot_events(events, event_id=event_dict, sfreq=sig.info['sfreq'], first_samp=sig.first_samp)\n",
      "/tmp/ipykernel_105226/3192631193.py:1: RuntimeWarning: event 45 missing from event_id will be ignored\n",
      "  fig = mne.viz.plot_events(events, event_id=event_dict, sfreq=sig.info['sfreq'], first_samp=sig.first_samp)\n",
      "/tmp/ipykernel_105226/3192631193.py:1: RuntimeWarning: event 46 missing from event_id will be ignored\n",
      "  fig = mne.viz.plot_events(events, event_id=event_dict, sfreq=sig.info['sfreq'], first_samp=sig.first_samp)\n",
      "/tmp/ipykernel_105226/3192631193.py:1: RuntimeWarning: event 47 missing from event_id will be ignored\n",
      "  fig = mne.viz.plot_events(events, event_id=event_dict, sfreq=sig.info['sfreq'], first_samp=sig.first_samp)\n",
      "/tmp/ipykernel_105226/3192631193.py:1: RuntimeWarning: event 48 missing from event_id will be ignored\n",
      "  fig = mne.viz.plot_events(events, event_id=event_dict, sfreq=sig.info['sfreq'], first_samp=sig.first_samp)\n",
      "/tmp/ipykernel_105226/3192631193.py:1: RuntimeWarning: event 49 missing from event_id will be ignored\n",
      "  fig = mne.viz.plot_events(events, event_id=event_dict, sfreq=sig.info['sfreq'], first_samp=sig.first_samp)\n",
      "/tmp/ipykernel_105226/3192631193.py:1: RuntimeWarning: event 50 missing from event_id will be ignored\n",
      "  fig = mne.viz.plot_events(events, event_id=event_dict, sfreq=sig.info['sfreq'], first_samp=sig.first_samp)\n",
      "/tmp/ipykernel_105226/3192631193.py:1: RuntimeWarning: event 51 missing from event_id will be ignored\n",
      "  fig = mne.viz.plot_events(events, event_id=event_dict, sfreq=sig.info['sfreq'], first_samp=sig.first_samp)\n",
      "/tmp/ipykernel_105226/3192631193.py:1: RuntimeWarning: event 52 missing from event_id will be ignored\n",
      "  fig = mne.viz.plot_events(events, event_id=event_dict, sfreq=sig.info['sfreq'], first_samp=sig.first_samp)\n",
      "/tmp/ipykernel_105226/3192631193.py:1: RuntimeWarning: event 53 missing from event_id will be ignored\n",
      "  fig = mne.viz.plot_events(events, event_id=event_dict, sfreq=sig.info['sfreq'], first_samp=sig.first_samp)\n",
      "/tmp/ipykernel_105226/3192631193.py:1: RuntimeWarning: event 54 missing from event_id will be ignored\n",
      "  fig = mne.viz.plot_events(events, event_id=event_dict, sfreq=sig.info['sfreq'], first_samp=sig.first_samp)\n",
      "/tmp/ipykernel_105226/3192631193.py:1: RuntimeWarning: event 55 missing from event_id will be ignored\n",
      "  fig = mne.viz.plot_events(events, event_id=event_dict, sfreq=sig.info['sfreq'], first_samp=sig.first_samp)\n",
      "/tmp/ipykernel_105226/3192631193.py:1: RuntimeWarning: event 56 missing from event_id will be ignored\n",
      "  fig = mne.viz.plot_events(events, event_id=event_dict, sfreq=sig.info['sfreq'], first_samp=sig.first_samp)\n",
      "/tmp/ipykernel_105226/3192631193.py:1: RuntimeWarning: event 57 missing from event_id will be ignored\n",
      "  fig = mne.viz.plot_events(events, event_id=event_dict, sfreq=sig.info['sfreq'], first_samp=sig.first_samp)\n",
      "/tmp/ipykernel_105226/3192631193.py:1: RuntimeWarning: event 58 missing from event_id will be ignored\n",
      "  fig = mne.viz.plot_events(events, event_id=event_dict, sfreq=sig.info['sfreq'], first_samp=sig.first_samp)\n",
      "/tmp/ipykernel_105226/3192631193.py:1: RuntimeWarning: event 59 missing from event_id will be ignored\n",
      "  fig = mne.viz.plot_events(events, event_id=event_dict, sfreq=sig.info['sfreq'], first_samp=sig.first_samp)\n",
      "/tmp/ipykernel_105226/3192631193.py:1: RuntimeWarning: event 60 missing from event_id will be ignored\n",
      "  fig = mne.viz.plot_events(events, event_id=event_dict, sfreq=sig.info['sfreq'], first_samp=sig.first_samp)\n",
      "/tmp/ipykernel_105226/3192631193.py:1: RuntimeWarning: event 61 missing from event_id will be ignored\n",
      "  fig = mne.viz.plot_events(events, event_id=event_dict, sfreq=sig.info['sfreq'], first_samp=sig.first_samp)\n",
      "/tmp/ipykernel_105226/3192631193.py:1: RuntimeWarning: event 62 missing from event_id will be ignored\n",
      "  fig = mne.viz.plot_events(events, event_id=event_dict, sfreq=sig.info['sfreq'], first_samp=sig.first_samp)\n",
      "/tmp/ipykernel_105226/3192631193.py:1: RuntimeWarning: event 63 missing from event_id will be ignored\n",
      "  fig = mne.viz.plot_events(events, event_id=event_dict, sfreq=sig.info['sfreq'], first_samp=sig.first_samp)\n",
      "/tmp/ipykernel_105226/3192631193.py:1: RuntimeWarning: event 64 missing from event_id will be ignored\n",
      "  fig = mne.viz.plot_events(events, event_id=event_dict, sfreq=sig.info['sfreq'], first_samp=sig.first_samp)\n",
      "/tmp/ipykernel_105226/3192631193.py:1: RuntimeWarning: event 65 missing from event_id will be ignored\n",
      "  fig = mne.viz.plot_events(events, event_id=event_dict, sfreq=sig.info['sfreq'], first_samp=sig.first_samp)\n",
      "/tmp/ipykernel_105226/3192631193.py:1: RuntimeWarning: event 66 missing from event_id will be ignored\n",
      "  fig = mne.viz.plot_events(events, event_id=event_dict, sfreq=sig.info['sfreq'], first_samp=sig.first_samp)\n",
      "/tmp/ipykernel_105226/3192631193.py:1: RuntimeWarning: event 67 missing from event_id will be ignored\n",
      "  fig = mne.viz.plot_events(events, event_id=event_dict, sfreq=sig.info['sfreq'], first_samp=sig.first_samp)\n",
      "/tmp/ipykernel_105226/3192631193.py:1: RuntimeWarning: event 68 missing from event_id will be ignored\n",
      "  fig = mne.viz.plot_events(events, event_id=event_dict, sfreq=sig.info['sfreq'], first_samp=sig.first_samp)\n",
      "/tmp/ipykernel_105226/3192631193.py:1: RuntimeWarning: event 69 missing from event_id will be ignored\n",
      "  fig = mne.viz.plot_events(events, event_id=event_dict, sfreq=sig.info['sfreq'], first_samp=sig.first_samp)\n",
      "/tmp/ipykernel_105226/3192631193.py:1: RuntimeWarning: event 70 missing from event_id will be ignored\n",
      "  fig = mne.viz.plot_events(events, event_id=event_dict, sfreq=sig.info['sfreq'], first_samp=sig.first_samp)\n",
      "/tmp/ipykernel_105226/3192631193.py:1: RuntimeWarning: event 71 missing from event_id will be ignored\n",
      "  fig = mne.viz.plot_events(events, event_id=event_dict, sfreq=sig.info['sfreq'], first_samp=sig.first_samp)\n",
      "/tmp/ipykernel_105226/3192631193.py:1: RuntimeWarning: event 72 missing from event_id will be ignored\n",
      "  fig = mne.viz.plot_events(events, event_id=event_dict, sfreq=sig.info['sfreq'], first_samp=sig.first_samp)\n",
      "/tmp/ipykernel_105226/3192631193.py:1: RuntimeWarning: event 73 missing from event_id will be ignored\n",
      "  fig = mne.viz.plot_events(events, event_id=event_dict, sfreq=sig.info['sfreq'], first_samp=sig.first_samp)\n",
      "/tmp/ipykernel_105226/3192631193.py:1: RuntimeWarning: event 74 missing from event_id will be ignored\n",
      "  fig = mne.viz.plot_events(events, event_id=event_dict, sfreq=sig.info['sfreq'], first_samp=sig.first_samp)\n",
      "/tmp/ipykernel_105226/3192631193.py:1: RuntimeWarning: event 75 missing from event_id will be ignored\n",
      "  fig = mne.viz.plot_events(events, event_id=event_dict, sfreq=sig.info['sfreq'], first_samp=sig.first_samp)\n",
      "/tmp/ipykernel_105226/3192631193.py:1: RuntimeWarning: event 76 missing from event_id will be ignored\n",
      "  fig = mne.viz.plot_events(events, event_id=event_dict, sfreq=sig.info['sfreq'], first_samp=sig.first_samp)\n",
      "/tmp/ipykernel_105226/3192631193.py:1: RuntimeWarning: event 77 missing from event_id will be ignored\n",
      "  fig = mne.viz.plot_events(events, event_id=event_dict, sfreq=sig.info['sfreq'], first_samp=sig.first_samp)\n",
      "/tmp/ipykernel_105226/3192631193.py:1: RuntimeWarning: event 78 missing from event_id will be ignored\n",
      "  fig = mne.viz.plot_events(events, event_id=event_dict, sfreq=sig.info['sfreq'], first_samp=sig.first_samp)\n",
      "/tmp/ipykernel_105226/3192631193.py:1: RuntimeWarning: event 79 missing from event_id will be ignored\n",
      "  fig = mne.viz.plot_events(events, event_id=event_dict, sfreq=sig.info['sfreq'], first_samp=sig.first_samp)\n",
      "/tmp/ipykernel_105226/3192631193.py:1: RuntimeWarning: event 80 missing from event_id will be ignored\n",
      "  fig = mne.viz.plot_events(events, event_id=event_dict, sfreq=sig.info['sfreq'], first_samp=sig.first_samp)\n",
      "/tmp/ipykernel_105226/3192631193.py:1: RuntimeWarning: event 81 missing from event_id will be ignored\n",
      "  fig = mne.viz.plot_events(events, event_id=event_dict, sfreq=sig.info['sfreq'], first_samp=sig.first_samp)\n",
      "/tmp/ipykernel_105226/3192631193.py:1: RuntimeWarning: event 82 missing from event_id will be ignored\n",
      "  fig = mne.viz.plot_events(events, event_id=event_dict, sfreq=sig.info['sfreq'], first_samp=sig.first_samp)\n",
      "/tmp/ipykernel_105226/3192631193.py:1: RuntimeWarning: event 83 missing from event_id will be ignored\n",
      "  fig = mne.viz.plot_events(events, event_id=event_dict, sfreq=sig.info['sfreq'], first_samp=sig.first_samp)\n",
      "/tmp/ipykernel_105226/3192631193.py:1: RuntimeWarning: event 84 missing from event_id will be ignored\n",
      "  fig = mne.viz.plot_events(events, event_id=event_dict, sfreq=sig.info['sfreq'], first_samp=sig.first_samp)\n",
      "/tmp/ipykernel_105226/3192631193.py:1: RuntimeWarning: More events than default colors available. You should pass a list of unique colors.\n",
      "  fig = mne.viz.plot_events(events, event_id=event_dict, sfreq=sig.info['sfreq'], first_samp=sig.first_samp)\n"
     ]
    },
    {
     "data": {
      "text/plain": "<Figure size 640x480 with 1 Axes>",
      "image/png": "[encoded data removed]"
     },
     "metadata": {},
     "output_type": "display_data"
    }
   ],
   "source": [
    "fig = mne.viz.plot_events(events, event_id=event_dict, sfreq=sig.info['sfreq'], first_samp=sig.first_samp)"
   ],
   "metadata": {
    "collapsed": false
   }
  },
  {
   "cell_type": "code",
   "execution_count": 52,
   "outputs": [
    {
     "data": {
      "text/plain": "array([[26972, 65280,     0],\n       [27100, 65280,     1],\n       [27258, 65280,     2],\n       [27383, 65280,     3],\n       [27558, 65280,     4],\n       [28530, 65280,     5],\n       [28658, 65280,     6],\n       [28815, 65280,     7],\n       [28941, 65280,     8],\n       [29012, 65280,     9],\n       [30062, 65280,    10],\n       [30191, 65280,    11],\n       [30347, 65280,    12],\n       [30473, 65280,    13],\n       [30527, 65280,    14],\n       [31568, 65280,    15],\n       [31696, 65280,    16],\n       [31853, 65280,    17],\n       [31979, 65280,    18],\n       [32248, 65280,    19],\n       [33251, 65280,    20],\n       [33379, 65280,    21],\n       [33538, 65280,    22],\n       [33662, 65280,    23],\n       [33743, 65280,    24],\n       [34721, 65280,    25],\n       [34849, 65280,    26],\n       [35006, 65280,    27],\n       [35132, 65280,    28],\n       [35197, 65280,    29],\n       [36230, 65280,    30],\n       [36359, 65280,    31],\n       [36516, 65280,    32],\n       [36641, 65280,    33],\n       [37163, 65280,    34],\n       [39801, 65280,    35],\n       [39929, 65280,    36],\n       [40088, 65280,    37],\n       [40212, 65280,    38],\n       [40345, 65280,    39],\n       [41046, 65280,    40],\n       [41175, 65280,    41],\n       [41333, 65280,    42],\n       [41457, 65280,    43],\n       [41619, 65280,    44],\n       [42373, 65280,    45],\n       [42502, 65280,    46],\n       [42660, 65280,    47],\n       [42784, 65280,    48],\n       [42926, 65280,    49],\n       [43676, 65280,    50],\n       [43804, 65280,    51],\n       [43962, 65280,    52],\n       [44087, 65280,    53],\n       [44175, 65280,    54],\n       [44921, 65280,    55],\n       [45049, 65280,    56],\n       [45207, 65280,    57],\n       [45332, 65280,    58],\n       [45420, 65280,    59],\n       [46192, 65280,    60],\n       [46320, 65280,    61],\n       [46479, 65280,    62],\n       [46603, 65280,    63],\n       [46694, 65280,    64],\n       [47467, 65280,    65],\n       [47595, 65280,    66],\n       [47754, 65280,    67],\n       [47878, 65280,    68],\n       [47914, 65280,    69],\n       [48695, 65280,    70],\n       [48823, 65280,    71],\n       [48983, 65280,    72],\n       [49106, 65280,    73],\n       [49401, 65280,    74],\n       [50111, 65280,    75],\n       [50239, 65280,    76],\n       [50395, 65280,    77],\n       [50522, 65280,    78],\n       [50573, 65280,    79],\n       [51345, 65280,    80],\n       [51473, 65280,    81],\n       [51633, 65280,    82],\n       [51756, 65280,    83],\n       [51879, 65280,    84],\n       [52604, 65280,    85],\n       [52732, 65280,    86],\n       [52891, 65280,    87],\n       [53015, 65280,    88],\n       [53088, 65280,    89]])"
     },
     "execution_count": 52,
     "metadata": {},
     "output_type": "execute_result"
    }
   ],
   "source": [
    "events"
   ],
   "metadata": {
    "collapsed": false
   }
  },
  {
   "cell_type": "code",
   "execution_count": null,
   "outputs": [],
   "source": [],
   "metadata": {
    "collapsed": false
   }
  }
 ],
 "metadata": {
  "kernelspec": {
   "display_name": "Python 3",
   "language": "python",
   "name": "python3"
  },
  "language_info": {
   "codemirror_mode": {
    "name": "ipython",
    "version": 2
   },
   "file_extension": ".py",
   "mimetype": "text/x-python",
   "name": "python",
   "nbconvert_exporter": "python",
   "pygments_lexer": "ipython2",
   "version": "2.7.6"
  }
 },
 "nbformat": 4,
 "nbformat_minor": 0
}
